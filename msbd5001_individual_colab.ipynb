{
  "nbformat": 4,
  "nbformat_minor": 0,
  "metadata": {
    "colab": {
      "name": "msbd5001_individual_colab.ipynb",
      "version": "0.3.2",
      "provenance": [],
      "collapsed_sections": []
    },
    "kernelspec": {
      "display_name": "Python 3",
      "language": "python",
      "name": "python3"
    },
    "accelerator": "GPU"
  },
  "cells": [
    {
      "metadata": {
        "id": "IiAGGy1_Vrzb",
        "colab_type": "text"
      },
      "cell_type": "markdown",
      "source": [
        "# 5001_individual_project start"
      ]
    },
    {
      "metadata": {
        "id": "nDHz0LoRP2-a",
        "colab_type": "code",
        "outputId": "cd820b80-d962-40dc-b163-e644101bb9c7",
        "colab": {
          "base_uri": "https://localhost:8080/",
          "height": 102
        }
      },
      "cell_type": "code",
      "source": [
        "# install necessary packages to access google drive.\n",
        "!apt-get install -y -qq software-properties-common python-software-properties module-init-tools\n",
        "!add-apt-repository -y ppa:alessandro-strada/ppa 2>&1 > /dev/null\n",
        "!apt-get update -qq 2>&1 > /dev/null\n",
        "!apt-get -y install -qq google-drive-ocamlfuse fuse\n",
        "from google.colab import auth\n",
        "auth.authenticate_user()\n",
        "from oauth2client.client import GoogleCredentials\n",
        "creds = GoogleCredentials.get_application_default()\n",
        "import getpass\n",
        "!google-drive-ocamlfuse -headless -id={creds.client_id} -secret={creds.client_secret} < /dev/null 2>&1 | grep URL\n",
        "vcode = getpass.getpass()\n",
        "!echo {vcode} | google-drive-ocamlfuse -headless -id={creds.client_id} -secret={creds.client_secret}\n",
        "!mkdir -p drive\n",
        "!google-drive-ocamlfuse drive"
      ],
      "execution_count": 0,
      "outputs": [
        {
          "output_type": "stream",
          "text": [
            "E: Package 'python-software-properties' has no installation candidate\n",
            "\n",
            "··········\n",
            "fuse: mountpoint is not empty\n",
            "fuse: if you are sure this is safe, use the 'nonempty' mount option\n"
          ],
          "name": "stdout"
        }
      ]
    },
    {
      "metadata": {
        "id": "SNG5UxRk88GT",
        "colab_type": "code",
        "colab": {}
      },
      "cell_type": "code",
      "source": [
        "%matplotlib inline\n",
        "import os\n",
        "import pandas as pd\n",
        "import numpy as np\n",
        "import math\n",
        "from os.path import join as pjoin\n",
        "\n",
        "import warnings\n",
        "warnings.filterwarnings('ignore')\n",
        "\n",
        "import matplotlib.pyplot as plt\n",
        "import seaborn as sns\n",
        "\n",
        "# from sklearn.impute import SimpleImputer\n",
        "from sklearn.model_selection import cross_val_score, train_test_split\n",
        "from sklearn.metrics import mean_squared_error, make_scorer, mean_absolute_error\n",
        "from sklearn.preprocessing import OneHotEncoder\n",
        "\n",
        "def train_and_cross_vali(model_name, model, X, y, verbose=1):\n",
        "    scores = cross_val_score(model, \n",
        "                             X, \n",
        "                             y, \n",
        "                             cv=5, \n",
        "                             n_jobs=2, \n",
        "                             scoring=make_scorer(mean_squared_error))#mean_absolute_error))#\n",
        "    score = scores.mean()\n",
        "    if verbose > 0:\n",
        "        print(f\"{model_name} crossvali score: {score}\")\n",
        "    return score\n",
        "    \n",
        "def train_and_score(model_name, model, X_train, X_test, y_train, y_test, verbose=1):\n",
        "    model = model.fit(X=X_train, y=y_train)\n",
        "    score = 'NaN'\n",
        "    if len(X_test) > 0:\n",
        "        score = model.score(X_test, y_test)\n",
        "    if verbose > 0:\n",
        "        print(f\"{model_name} fit score: {score}\")\n",
        "    return score\n"
      ],
      "execution_count": 0,
      "outputs": []
    },
    {
      "metadata": {
        "id": "LI6mZden9Ius",
        "colab_type": "code",
        "colab": {}
      },
      "cell_type": "code",
      "source": [
        "data_dir='drive/msbd5001_project/dataset'\n",
        "data = pd.read_csv(pjoin(data_dir, 'train_all.csv'))"
      ],
      "execution_count": 0,
      "outputs": []
    },
    {
      "metadata": {
        "id": "Z2JgWYUJ9Hv5",
        "colab_type": "code",
        "colab": {}
      },
      "cell_type": "code",
      "source": [
        "def eda(data):\n",
        "   \n",
        "    # onehot for penalty\n",
        "    data = pd.get_dummies(data, columns=['penalty'])\n",
        "    data.rename(index=str, inplace=True,\n",
        "                columns={\"penalty_elasticnet\":\"p1\",\n",
        "                    \"penalty_l1\":\"p2\",\n",
        "                    \"penalty_l2\":\"p3\",\n",
        "                    \"penalty_none\":\"p4\"})\n",
        "    \n",
        "    col_jobs = data['n_jobs']\n",
        "    col_jobs[col_jobs==-1]=16\n",
        "    \n",
        "    # outliers\n",
        "#     data = data[np.abs(data-data.mean()) <= (3*data.std())]\n",
        "#     data.dropna(axis=0, inplace=True)\n",
        "#     data = data.reset_index(drop=True)\n",
        "\n",
        "    # new features\n",
        "    data_amount = data['n_features']*data['n_samples']*data['max_iter']\n",
        "    data_amount_perr_processor = data_amount / data['n_jobs']\n",
        "    data_amount_perr_processor_extend = data_amount_perr_processor * data['flip_y']\n",
        "    \n",
        "    data_amount_perr_processor_extend_2 = data['n_features']*data['n_samples']*data['max_iter']*np.power(10,data['flip_y'])\n",
        "    \n",
        "    # add new feature\n",
        "    data['new_fsi'] = data['n_features']*data['n_samples']*data['max_iter'] \n",
        "    data['fsi_j'] = data['new_fsi'] / data['n_jobs']\n",
        "    data['p1_fsij'] = data['p1'] * data['fsi_j']\n",
        "    data['p2_fsij'] = data['p2'] * data['fsi_j']\n",
        "    data['p3_fsij'] = data['p3'] * data['fsi_j']\n",
        "    data['p4_fsij'] = data['p4'] * data['fsi_j']\n",
        "    \n",
        "    data['p1_clz'] = data['p1'] * data['n_classes']\n",
        "    data['p2_clz'] = data['p2'] * data['n_classes']\n",
        "    \n",
        "    data['p1_fy'] = data['p1'] * data['flip_y']\n",
        "    data['p2_fy'] = data['p2'] * data['flip_y']\n",
        "   \n",
        "\n",
        "    return data"
      ],
      "execution_count": 0,
      "outputs": []
    },
    {
      "metadata": {
        "id": "pFrJ6eF09aFS",
        "colab_type": "code",
        "colab": {}
      },
      "cell_type": "code",
      "source": [
        "from keras.utils.np_utils import to_categorical\n",
        "from keras.models import Sequential\n",
        "from keras.layers import Dense, Dropout, BatchNormalization, Conv2D, Flatten, MaxPool2D\n",
        "from keras.optimizers import RMSprop\n",
        "from keras.callbacks import ReduceLROnPlateau, EarlyStopping\n",
        "from sklearn.preprocessing import normalize, scale, StandardScaler\n",
        "import tensorflow as tf\n",
        "\n",
        "\n",
        "data = pd.read_csv(pjoin(data_dir, 'train_all.csv'))\n",
        "data = eda(data)\n",
        "data_test = pd.read_csv(pjoin(data_dir, 'test.csv'))\n",
        "data_test = eda(data_test)\n",
        "data_all = data_test.append(data)\n",
        "data_all.drop(columns='time', axis=1, inplace=True)\n",
        "\n",
        "corr = data.corr()\n",
        "keys = corr.query('abs(time) >= 0.1').index.tolist()\n",
        "keys.remove('time')\n",
        "\n",
        "# standardlize\n",
        "data[keys] = (data[keys] - data_all[keys].mean()) / data_all[keys].std()\n",
        "\n",
        "x_data = data[keys]\n",
        "y_data = data['time']\n",
        "\n",
        "X_train, X_test, y_train, y_test = train_test_split(x_data, y_data, test_size=0.23, random_state=5001)\n",
        "\n",
        "dim = x_data.shape[1]\n",
        "\n",
        "\n",
        "def build_model_2():\n",
        "  model = Sequential()\n",
        "  model.add(Dense(units=dim, activation='tanh', input_shape=(dim,)))\n",
        "  model.add(Dense(units=1024, activation='tanh', input_shape=(dim,), kernel_initializer='normal'))\n",
        "  model.add(Dense(units=512, activation='tanh', input_shape=(dim,), kernel_initializer='normal'))\n",
        "  model.add(Dropout(0.5))\n",
        "  model.add(Dense(units=256, activation='relu'))\n",
        "  model.add(Dropout(0.1))\n",
        "  model.add(Dense(units=128, activation='relu'))\n",
        "  model.add(Dense(units=64, activation='relu'))\n",
        "  model.add(Dense(units=32, activation='relu'))\n",
        "  model.add(Dense(units=16, activation='relu'))\n",
        "  model.add(Dense(units=8, activation='relu'))\n",
        "  model.add(Dense(units=1, activation='relu'))\n",
        "\n",
        "  # compile the model\n",
        "  model.compile(optimizer='adam', loss='mse')\n",
        "  # model.summary()\n",
        "  return model\n",
        "\n",
        "\n",
        "def train_nn(model, X_train=X_train, y_train=y_train, epochs=300, batch_size=500):\n",
        "  early_stopping = EarlyStopping(monitor='val_loss', patience=200, verbose=2)\n",
        "  learning_rate_reduction = ReduceLROnPlateau(monitor='val_loss',\n",
        "                                           patience=30,\n",
        "                                           verbose=1,\n",
        "                                           factor=0.5,\n",
        "                                           min_lr=0.0001)\n",
        "  # without data augmentation\n",
        "  history = model.fit(X_train, y_train, batch_size=batch_size, \n",
        "                      epochs=epochs,\n",
        "                      validation_data=(X_test, y_test), \n",
        "                      verbose=0, \n",
        "                      shuffle=False, callbacks=[learning_rate_reduction])#, early_stopping])\n",
        "  err = model.evaluate(X_test, y_test, batch_size=1, verbose=1)\n",
        "\n",
        "  print(f\"ep@{epochs}, bs@{batch_size} get err: {err}\")\n",
        "\n",
        "  return history"
      ],
      "execution_count": 0,
      "outputs": []
    },
    {
      "metadata": {
        "id": "ye_s2ofO9oJU",
        "colab_type": "code",
        "outputId": "ef8a0824-de3f-4230-ae19-878e15f0d56a",
        "colab": {
          "base_uri": "https://localhost:8080/",
          "height": 1029
        }
      },
      "cell_type": "code",
      "source": [
        "print(keys)\n",
        "model = build_model_2()\n",
        "model.summary()\n",
        "history = train_nn(model, X_train, y_train, epochs=500, batch_size=200)\n",
        "\n",
        "figsize=(15,4)\n",
        "fig = plt.figure(figsize=figsize) \n",
        "plt.plot(history.history['val_loss'], label='val_loss') \n",
        "plt.plot(history.history['loss'], label='loss')\n",
        "legend = fig.legend(loc='best', shadow=True)\n",
        "fig.show()"
      ],
      "execution_count": 0,
      "outputs": [
        {
          "output_type": "stream",
          "text": [
            "['max_iter', 'n_jobs', 'n_samples', 'n_features', 'n_classes', 'n_informative', 'flip_y', 'p1', 'p2', 'p3', 'p4', 'new_fsi', 'fsi_j', 'p1_fsij', 'p2_fsij', 'p1_clz', 'p2_clz', 'p1_fy', 'p2_fy']\n",
            "_________________________________________________________________\n",
            "Layer (type)                 Output Shape              Param #   \n",
            "=================================================================\n",
            "dense_441 (Dense)            (None, 19)                380       \n",
            "_________________________________________________________________\n",
            "dense_442 (Dense)            (None, 1024)              20480     \n",
            "_________________________________________________________________\n",
            "dense_443 (Dense)            (None, 512)               524800    \n",
            "_________________________________________________________________\n",
            "dropout_89 (Dropout)         (None, 512)               0         \n",
            "_________________________________________________________________\n",
            "dense_444 (Dense)            (None, 256)               131328    \n",
            "_________________________________________________________________\n",
            "dropout_90 (Dropout)         (None, 256)               0         \n",
            "_________________________________________________________________\n",
            "dense_445 (Dense)            (None, 128)               32896     \n",
            "_________________________________________________________________\n",
            "dense_446 (Dense)            (None, 64)                8256      \n",
            "_________________________________________________________________\n",
            "dense_447 (Dense)            (None, 32)                2080      \n",
            "_________________________________________________________________\n",
            "dense_448 (Dense)            (None, 16)                528       \n",
            "_________________________________________________________________\n",
            "dense_449 (Dense)            (None, 8)                 136       \n",
            "_________________________________________________________________\n",
            "dense_450 (Dense)            (None, 1)                 9         \n",
            "=================================================================\n",
            "Total params: 720,893\n",
            "Trainable params: 720,893\n",
            "Non-trainable params: 0\n",
            "_________________________________________________________________\n",
            "\n",
            "Epoch 00104: ReduceLROnPlateau reducing learning rate to 0.0005000000237487257.\n",
            "\n",
            "Epoch 00149: ReduceLROnPlateau reducing learning rate to 0.0002500000118743628.\n",
            "\n",
            "Epoch 00213: ReduceLROnPlateau reducing learning rate to 0.0001250000059371814.\n",
            "\n",
            "Epoch 00243: ReduceLROnPlateau reducing learning rate to 0.0001.\n",
            "102/102 [==============================] - 0s 4ms/step\n",
            "ep@500, bs@200 get err: 1.0432956063169496\n"
          ],
          "name": "stdout"
        },
        {
          "output_type": "display_data",
          "data": {
            "image/png": "[encoded data removed]",
            "text/plain": [
              "<matplotlib.figure.Figure at 0x7f25200d0cc0>"
            ]
          },
          "metadata": {
            "tags": []
          }
        }
      ]
    },
    {
      "metadata": {
        "id": "3RwKsBiK7Ncq",
        "colab_type": "code",
        "outputId": "553917a0-0c5e-4c95-8076-55a21ac4629a",
        "colab": {
          "base_uri": "https://localhost:8080/",
          "height": 187
        }
      },
      "cell_type": "code",
      "source": [
        "# retain the model\n",
        "model = build_model_2()\n",
        "history = train_nn(model, x_data, y_data, epochs=500, batch_size=200)"
      ],
      "execution_count": 0,
      "outputs": [
        {
          "output_type": "stream",
          "text": [
            "\n",
            "Epoch 00184: ReduceLROnPlateau reducing learning rate to 0.0005000000237487257.\n",
            "\n",
            "Epoch 00278: ReduceLROnPlateau reducing learning rate to 0.0002500000118743628.\n",
            "\n",
            "Epoch 00348: ReduceLROnPlateau reducing learning rate to 0.0001250000059371814.\n",
            "\n",
            "Epoch 00378: ReduceLROnPlateau reducing learning rate to 0.0001.\n",
            "102/102 [==============================] - 0s 4ms/step\n",
            "ep@500, bs@200 get err: 0.05078895019710663\n"
          ],
          "name": "stdout"
        }
      ]
    },
    {
      "metadata": {
        "id": "-NILhxtGYsdu",
        "colab_type": "code",
        "colab": {}
      },
      "cell_type": "code",
      "source": [
        "model.save('drive/ml_trained_models/5001_model_.h5')"
      ],
      "execution_count": 0,
      "outputs": []
    },
    {
      "metadata": {
        "id": "jIF7QRCQY9vL",
        "colab_type": "code",
        "colab": {}
      },
      "cell_type": "code",
      "source": [
        "data = pd.read_csv(pjoin(data_dir, 'train_all.csv'))\n",
        "data = eda(data)\n",
        "data_test = pd.read_csv(pjoin(data_dir, 'test.csv'))\n",
        "data_test = eda(data_test)\n",
        "\n",
        "data_all = data_test.append(data)\n",
        "data_all.drop(columns='time', axis=1, inplace=True)\n",
        "\n",
        "# standardlize\n",
        "data_test[keys] = (data_test[keys] - data_all[keys].mean()) / data_all[keys].std()\n",
        "\n",
        "x_data_test = data_test[keys]\n",
        "# x_data_test = StandardScaler().fit_transform(x_data_test)"
      ],
      "execution_count": 0,
      "outputs": []
    },
    {
      "metadata": {
        "id": "AAB6CjRKZcYn",
        "colab_type": "code",
        "colab": {}
      },
      "cell_type": "code",
      "source": [
        "y_predicted = model.predict(x_data_test)"
      ],
      "execution_count": 0,
      "outputs": []
    },
    {
      "metadata": {
        "id": "KJ-_q4jmadqW",
        "colab_type": "code",
        "colab": {}
      },
      "cell_type": "code",
      "source": [
        "y_predicted = y_predicted.reshape(100)"
      ],
      "execution_count": 0,
      "outputs": []
    },
    {
      "metadata": {
        "id": "xNlUtap_aLOS",
        "colab_type": "code",
        "colab": {}
      },
      "cell_type": "code",
      "source": [
        "f_name = pjoin(data_dir, 'submission_dnn.csv')\n",
        "with open(f_name, 'w') as f:\n",
        "    f.write(\"Id,time\"+ '\\n')\n",
        "    for index, x in enumerate(y_predicted.tolist()):\n",
        "        if x<0:\n",
        "            x=0\n",
        "        f.write(f\"{index},{str(x)}\" + '\\n')"
      ],
      "execution_count": 0,
      "outputs": []
    },
    {
      "metadata": {
        "id": "0yMbRcTtW-o9",
        "colab_type": "code",
        "colab": {}
      },
      "cell_type": "code",
      "source": [
        "\n",
        "# def build_model_2_bak():\n",
        "#   model = Sequential()\n",
        "#   model.add(Dense(units=16, activation='tanh', input_shape=(dim,)))\n",
        "#   model.add(Dense(units=1024, activation='tanh', input_shape=(dim,), kernel_initializer='normal'))\n",
        "# #   model.add(Dropout(0.25))\n",
        "#   model.add(Dense(units=512, activation='tanh', input_shape=(dim,), kernel_initializer='normal'))\n",
        "#   model.add(Dropout(0.5))\n",
        "#   model.add(Dense(units=256, activation='relu'))#, kernel_initializer='normal'))\n",
        "#   model.add(Dropout(0.1))\n",
        "#   model.add(Dense(units=128, activation='relu'))#, kernel_initializer='normal'))\n",
        "#   model.add(Dense(units=64, activation='relu'))#, kernel_initializer='normal'))\n",
        "#   model.add(Dense(units=32, activation='relu'))#, kernel_initializer='normal'))\n",
        "#   model.add(Dense(units=16, activation='relu'))#, kernel_initializer='normal'))\n",
        "#   model.add(Dense(units=1, activation='relu'))#, kernel_initializer='normal'))#, activation='softmax'))\n",
        "\n",
        "#   # define the optimizer\n",
        "#   # compile the model\n",
        "#   model.compile(optimizer='adam', loss='mse')#), metrics=['mae', 'acc'])\n",
        "#   # model.summary()\n",
        "#   return model\n"
      ],
      "execution_count": 0,
      "outputs": []
    }
  ]
}